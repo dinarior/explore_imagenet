{
 "cells": [
  {
   "cell_type": "code",
   "execution_count": 1,
   "metadata": {},
   "outputs": [],
   "source": [
    "import numpy as np\n",
    "import xml.etree.ElementTree as ET"
   ]
  },
  {
   "cell_type": "markdown",
   "metadata": {},
   "source": [
    "### Load Imagenet structure"
   ]
  },
  {
   "cell_type": "code",
   "execution_count": 2,
   "metadata": {},
   "outputs": [],
   "source": [
    "imagenet_tree = ET.parse('exin/structure_released.xml')"
   ]
  },
  {
   "cell_type": "code",
   "execution_count": 3,
   "metadata": {},
   "outputs": [
    {
     "name": "stdout",
     "output_type": "stream",
     "text": [
      "releaseData {}\n",
      "synset {'wnid': 'fall11', 'words': 'ImageNet 2011 Fall Release', 'gloss': 'ImageNet 2011 Fall Release.'}\n"
     ]
    }
   ],
   "source": [
    "root = imagenet_tree.getroot()"
   ]
  },
  {
   "cell_type": "code",
   "execution_count": 5,
   "metadata": {},
   "outputs": [],
   "source": [
    "sysnet = root[1]"
   ]
  },
  {
   "cell_type": "code",
   "execution_count": 8,
   "metadata": {},
   "outputs": [],
   "source": [
    "def build_dict(sysnet_elem,name=None):\n",
    "    if len(sysnet_elem) == 0:\n",
    "        return name\n",
    "    else:\n",
    "        items_dict = {}\n",
    "        for child in sysnet_elem:\n",
    "            items_dict[child.attrib['wnid']] = (build_dict(child,child.attrib['words']),child.attrib['words'])\n",
    "    return items_dict\n",
    "\n",
    "def search_in_dict(item, imagenet_dict):\n",
    "    return search_in_dict_path(item,(imagenet_dict,0),[])\n",
    "\n",
    "def search_in_dict_path(item, imagenet_dict,path):\n",
    "    if type(imagenet_dict[0]) == type('a'):\n",
    "        return 0\n",
    "    if item in imagenet_dict[0].keys():\n",
    "        return path + [(item,imagenet_dict[0][item][1])] + [imagenet_dict[0][item][0]]\n",
    "    elif len(imagenet_dict[0]) == 0:\n",
    "        return 0\n",
    "    else:\n",
    "        for (k,v) in imagenet_dict[0].items():\n",
    "            whole_path = search_in_dict_path(item,v,path + [(k,v[1])])\n",
    "            if whole_path == 0:\n",
    "                continue\n",
    "            return whole_path\n",
    "    return 0\n",
    "        \n",
    "        "
   ]
  },
  {
   "cell_type": "code",
   "execution_count": 9,
   "metadata": {},
   "outputs": [],
   "source": [
    "whole_dict = build_dict(sysnet)"
   ]
  },
  {
   "cell_type": "code",
   "execution_count": null,
   "metadata": {},
   "outputs": [],
   "source": [
    "search_in_dict('n02356798',whole_dict)"
   ]
  }
 ],
 "metadata": {
  "@webio": {
   "lastCommId": null,
   "lastKernelId": null
  },
  "kernelspec": {
   "display_name": "py36",
   "language": "python",
   "name": "py36"
  },
  "language_info": {
   "codemirror_mode": {
    "name": "ipython",
    "version": 3
   },
   "file_extension": ".py",
   "mimetype": "text/x-python",
   "name": "python",
   "nbconvert_exporter": "python",
   "pygments_lexer": "ipython3",
   "version": "3.9.0-final"
  }
 },
 "nbformat": 4,
 "nbformat_minor": 4
}